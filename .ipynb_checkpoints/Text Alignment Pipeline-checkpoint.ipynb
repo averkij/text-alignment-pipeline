{
 "cells": [
  {
   "cell_type": "markdown",
   "metadata": {},
   "source": [
    "# Text Alignment Pipeline"
   ]
  },
  {
   "cell_type": "markdown",
   "metadata": {},
   "source": [
    "## 1. Objective"
   ]
  },
  {
   "cell_type": "markdown",
   "metadata": {},
   "source": [
    "Align two raw texts in different languages and extract as much parallel sentences as possible.\n",
    "In this particular case there are two texts in Chinese and Russian."
   ]
  },
  {
   "cell_type": "markdown",
   "metadata": {},
   "source": [
    "## 2. Pipeline"
   ]
  },
  {
   "cell_type": "code",
   "execution_count": 1,
   "metadata": {},
   "outputs": [],
   "source": [
    "import pymorphy2\n",
    "import re\n",
    "import torch\n",
    "import seaborn as sns\n",
    "import numpy as np\n",
    "import razdel\n",
    "import os\n",
    "\n",
    "from scipy import spatial\n",
    "from matplotlib import pyplot as plt\n",
    "from transformers import AutoTokenizer, AutoModelWithLMHead"
   ]
  },
  {
   "cell_type": "code",
   "execution_count": 2,
   "metadata": {},
   "outputs": [],
   "source": [
    "basepath = r\"D:\\ml\\tap\"\n",
    "\n",
    "file_ru = \"chekhov_futlar_ru.txt\"\n",
    "file_zh = \"chekhov_futlar_zh.txt\"\n",
    "\n",
    "raw_path = os.path.join(basepath, \"raw\")\n",
    "splitted_path = os.path.join(basepath, \"splitted\")\n",
    "proxy_path = os.path.join(basepath, \"proxy\")\n",
    "output_path = os.path.join(basepath, \"done\")\n",
    "\n",
    "raw_ru = os.path.join(raw_path, file_ru)\n",
    "raw_zh = os.path.join(raw_path, file_zh)\n",
    "splitted_ru = os.path.join(splitted_path, file_ru)\n",
    "splitted_zh = os.path.join(splitted_path, file_zh)\n",
    "proxy_ru = os.path.join(proxy_path, file_ru)\n",
    "output_ru = os.path.join(output_path, file_ru)\n",
    "output_zh = os.path.join(output_path, file_zh)\n",
    "\n",
    "if not os.path.exists(basepath):\n",
    "    os.mkdir(basepath)\n",
    "    \n",
    "if not os.path.exists(raw_path):\n",
    "    os.mkdir(raw_path)\n",
    "    \n",
    "if not os.path.exists(splitted_path):\n",
    "    os.mkdir(splitted_path)\n",
    "    \n",
    "if not os.path.exists(proxy_path):\n",
    "    os.mkdir(proxy_path)\n",
    "    \n",
    "if not os.path.exists(output_path):\n",
    "    os.mkdir(output_path)"
   ]
  },
  {
   "cell_type": "markdown",
   "metadata": {},
   "source": [
    "### 2.1 Split texts to sentences"
   ]
  },
  {
   "cell_type": "markdown",
   "metadata": {},
   "source": [
    "#### Russian"
   ]
  },
  {
   "cell_type": "code",
   "execution_count": 3,
   "metadata": {},
   "outputs": [
    {
     "name": "stdout",
     "output_type": "stream",
     "text": [
      "241\n"
     ]
    }
   ],
   "source": [
    "#Russian\n",
    "pattern_ru_orig = re.compile(r'[a-zA-Z\\(\\)\\[\\]\\/\\<\\>•\\'\\n]+')\n",
    "double_spaces = re.compile(r'[\\s]+')\n",
    "double_commas = re.compile(r'[,]+')\n",
    "double_dash = re.compile(r'[-—]+')\n",
    "\n",
    "with open(raw_ru, mode='r', encoding='utf-8') as input_ru, open(splitted_ru, mode='w', encoding='utf-8') as out_ru:\n",
    "    ru = ' '.join(input_ru.readlines())\n",
    "    ru = re.sub(pattern_ru_orig, '', ru)\n",
    "    ru = re.sub(double_spaces, ' ', ru)\n",
    "    ru = re.sub(double_commas, ',', ru)\n",
    "    ru = re.sub(double_dash, '—', ru)\n",
    "    \n",
    "    sent_ru = list(x.text for x in razdel.sentenize(ru))\n",
    "    \n",
    "    count = 1\n",
    "    for x in sent_ru:\n",
    "        if count < len(sent_ru)-1:\n",
    "            out_ru.write(x.strip() + \"\\n\")\n",
    "        else:\n",
    "            out_ru.write(x.strip())\n",
    "        count += 1\n",
    "            \n",
    "print(len(sent_ru))"
   ]
  },
  {
   "cell_type": "code",
   "execution_count": 4,
   "metadata": {
    "scrolled": true
   },
   "outputs": [
    {
     "data": {
      "text/plain": [
       "['На самом краю села Мироносицкого, в сарае старосты Прокофия, расположились на ночлег запоздавшие охотники.',\n",
       " 'Их было только двое: ветеринарный врач Иван Иваныч и учитель гимназии Буркин.',\n",
       " 'У Ивана Иваныча была довольно странная, двойная фамилия — Чимша—Гималайский, которая совсем не шла ему, и его во всей губернии звали просто по имени и отчеству; он жил около города на конском заводе и приехал теперь на охоту, чтобы подышать чистым воздухом.',\n",
       " 'Учитель же гимназии Буркин каждое лето гостил у графов П. и в этой местности давно уже был своим человеком.',\n",
       " 'Не спали.',\n",
       " 'Иван Иваныч, высокий худощавый старик с длинными усами, сидел снаружи у входа и курил трубку; его освещала луна.',\n",
       " 'Буркин лежал внутри на сене, и его не было видно в потемках.',\n",
       " 'Рассказывали разные истории.',\n",
       " 'Между прочим, говорили о том, что жена старосты, Мавра, женщина здоровая и неглупая, во всю свою жизнь нигде не была дальше своего родного села, никогда не видела ни города, ни железной дороги, а в последние десять лет все сидела за печью и только по ночам выходила на улицу.',\n",
       " '— Что же тут удивительного! — сказал Буркин.— Людей, одиноких по натуре, которые, как рак—отшельник или улитка, стараются уйти в свою скорлупу, на этом свете немало.']"
      ]
     },
     "execution_count": 4,
     "metadata": {},
     "output_type": "execute_result"
    }
   ],
   "source": [
    "sent_ru[:10]"
   ]
  },
  {
   "cell_type": "markdown",
   "metadata": {},
   "source": [
    "#### Chinese"
   ]
  },
  {
   "cell_type": "code",
   "execution_count": 5,
   "metadata": {},
   "outputs": [
    {
     "name": "stdout",
     "output_type": "stream",
     "text": [
      "311\n"
     ]
    }
   ],
   "source": [
    "#Chinese\n",
    "pattern_zh = re.compile(r'[」「“”„‟\\x1a⓪①②③④⑤⑥⑦⑧⑨⑩⑴⑵⑶⑷⑸⑹⑺⑻⑼⑽*a-zA-Zа-яА-Я\\(\\)\\[\\]\\s\\n\\/\\-\\:•＂＃＄％＆＇（）＊＋－／：；＜＝＞＠［＼］＾＿｀｛｜｝～｟｠｢｣､、〃》【】〔〕〖〗〘〙〜〟〰〾〿–—‘’‛‧﹏〉]+')\n",
    "pat_comma = re.compile(r'[\\.]+')\n",
    "\n",
    "def split_zh(paragraph):\n",
    "    for sent in re.findall(u'[^!?。！？\\.\\!\\?]+[!?。！？\\.\\!\\?]?', paragraph, flags=re.U):\n",
    "        yield sent\n",
    "\n",
    "with open(raw_zh, mode='r', encoding='utf-8') as input_zh, open(splitted_zh, mode='w', encoding='utf-8') as out_zh:\n",
    "    zh = ''.join(input_zh.readlines())    \n",
    "    zh = re.sub(pat_comma, '。', zh)\n",
    "                       \n",
    "    sent_zh = list(re.sub(pattern_zh,'',x.strip()) for x in split_zh(zh))\n",
    "\n",
    "    count = 1\n",
    "    for x in sent_zh:\n",
    "        if count < len(sent_zh)-1:\n",
    "            out_zh.write(x.strip() + \"\\n\")\n",
    "        else:\n",
    "            out_zh.write(x.strip())\n",
    "        count += 1\n",
    "        \n",
    "print(len(sent_zh))"
   ]
  },
  {
   "cell_type": "code",
   "execution_count": 6,
   "metadata": {},
   "outputs": [
    {
     "data": {
      "text/plain": [
       "['误了时辰的猎人们在米罗诺西茨科耶村边上村长普罗科菲的堆房里住下来过夜了。',\n",
       " '他们一共只有两个人兽医伊万伊万内奇和中学教师布尔金。',\n",
       " '伊万。',\n",
       " '伊万内奇姓一个相当古怪的双姓奇姆沙吉马莱斯基，这个姓跟他一点也不相称，全省的人就简单地叫他的本名和父名伊万伊万内奇。',\n",
       " '他住在城郊一个养马场上，这回出来打猎是为了透一透新鲜空气。',\n",
       " '然而中学教师布尔金每年夏天都在伯爵家里做客，对这个地区早已熟透了。',\n",
       " '他们没睡觉。',\n",
       " '伊万伊万内奇是一个又高又瘦的老人，留着挺长的唇髭，这时候坐在门口，脸朝外，吸着烟斗。',\n",
       " '月亮照在他身上。',\n",
       " '布尔金躺在房里的干草上，在黑暗里谁也看不见他。']"
      ]
     },
     "execution_count": 6,
     "metadata": {},
     "output_type": "execute_result"
    }
   ],
   "source": [
    "sent_zh[:10]"
   ]
  },
  {
   "cell_type": "markdown",
   "metadata": {},
   "source": [
    "### 2.2 Proxy text "
   ]
  },
  {
   "cell_type": "markdown",
   "metadata": {},
   "source": [
    "Proxy text is a **splitted_zh** file machine translated to Russian. Translate it with the Google, Amazon, Bing, Yandex, etc. and **put in the proxy folder**."
   ]
  },
  {
   "cell_type": "code",
   "execution_count": 7,
   "metadata": {},
   "outputs": [
    {
     "name": "stdout",
     "output_type": "stream",
     "text": [
      "Proxy file is found:\n",
      "D:\\ml\\tap\\proxy\\chekhov_futlar_ru.txt\n",
      "\n"
     ]
    }
   ],
   "source": [
    "#check if proxy file exists\n",
    "if not(os.path.isfile(proxy_ru)):\n",
    "    raise Exception(\"Proxy file not found:\", proxy_ru)\n",
    "\n",
    "print(\"Proxy file is found:\")\n",
    "print(proxy_ru + \"\\n\")"
   ]
  },
  {
   "cell_type": "markdown",
   "metadata": {},
   "source": [
    "### 2.3 Sentences to vectors"
   ]
  },
  {
   "cell_type": "code",
   "execution_count": 9,
   "metadata": {},
   "outputs": [],
   "source": [
    "tokenizer = AutoTokenizer.from_pretrained(\"DeepPavlov/rubert-base-cased-sentence\")\n",
    "model = AutoModelWithLMHead.from_pretrained(\"DeepPavlov/rubert-base-cased-sentence\")\n",
    "\n",
    "def get_sent_vec(text):\n",
    "    tokenized_text = tokenizer.encode(text, add_special_tokens=True)\n",
    "    tokens_tensor = torch.tensor(tokenized_text).unsqueeze(0)\n",
    "    model.eval()\n",
    "    with torch.no_grad():\n",
    "        return model(tokens_tensor)[0]\n",
    "\n",
    "def get_batch(iter1, iter2, iter3, n):\n",
    "    l1 = len(iter1)\n",
    "    l3 = len(iter3)\n",
    "    k = int(round(n * l3/l1))    \n",
    "    kdx = 0 - k\n",
    "    for ndx in range(0, l1, n):\n",
    "        kdx += k\n",
    "        yield iter1[ndx:min(ndx + n, l1)], iter2[kdx:min(kdx + k, l3)], iter3[kdx:min(kdx + k, l3)]"
   ]
  },
  {
   "cell_type": "code",
   "execution_count": 14,
   "metadata": {},
   "outputs": [],
   "source": [
    "first_numbers = re.compile(r'^[0-9,\\.]+')\n",
    "last_punct = re.compile(r'[,\\.]+$')\n",
    "multiple_spaces = re.compile(r'\\s+')\n",
    "pattern_ru = re.compile(r'[a-zA-Z\\.\\(\\)\\[\\]\\/\\-\\:!?\\<\\>;•\\\"\\'«»——,]+')\n",
    "\n",
    "#lemmatization\n",
    "morph = pymorphy2.MorphAnalyzer()\n",
    "\n",
    "def get_line_vectors(lines):\n",
    "    ru_vectors = []\n",
    "    for line_ru in lines:\n",
    "        line_ru = re.sub(pattern_ru, '', line_ru).strip()\n",
    "        line_ru = re.sub(last_punct, '', line_ru).strip()\n",
    "        line_ru = re.sub(first_numbers, '', line_ru).strip()\n",
    "        line_ru = re.sub(multiple_spaces, ' ', line_ru).strip()\n",
    "        line_ru = line_ru.lower()\n",
    "\n",
    "        line_ru = ' '.join(list(map(lambda x: morph.parse(x)[0].normal_form, line_ru.split())))\n",
    "        #print(line_ru)\n",
    "        ru_vectors.append(get_sent_vec(line_ru))\n",
    "    return ru_vectors"
   ]
  },
  {
   "cell_type": "code",
   "execution_count": 21,
   "metadata": {},
   "outputs": [],
   "source": [
    "#similarity matrix\n",
    "def get_sim_matrix(ru_vec, ru_vec2, window=10):\n",
    "    sim_matrix=np.zeros((len(ru_vec), len(ru_vec2)))\n",
    "    #angle coefficient\n",
    "    k = len(ru_vec)/len(ru_vec2)\n",
    "    for i in range(len(ru_vec)):\n",
    "        for j in range(len(ru_vec2)):\n",
    "            if (j*k > i-window) & (j*k < i+window):\n",
    "                sim = 1 - spatial.distance.cosine(ru_vec[i][0,-1,:], ru_vec2[j][0,-1,:])\n",
    "                sim_matrix[i,j] = sim\n",
    "    return sim_matrix\n",
    "\n",
    "#alignined candidates retrieval\n",
    "def get_pairs(ru_lines, zh_lines, ru_proxy_lines, sim_matrix, threshold):\n",
    "    ru = []\n",
    "    zh = []\n",
    "    proxy = []\n",
    "    sims = []\n",
    "    for i in range(sim_matrix.shape[0]):\n",
    "        for j in range(sim_matrix.shape[1]):\n",
    "            if sim_matrix[i,j] >= threshold:\n",
    "                ru.append(ru_lines[j])\n",
    "                zh.append(zh_lines[i])\n",
    "                proxy.append(ru_proxy_lines[i])\n",
    "                sims.append(sim_matrix[i,j])\n",
    "    return ru,zh,proxy,sims"
   ]
  },
  {
   "cell_type": "code",
   "execution_count": 23,
   "metadata": {
    "scrolled": false
   },
   "outputs": [
    {
     "name": "stdout",
     "output_type": "stream",
     "text": [
      "----------------------------------------------------------\n",
      "batch: 1 [ 0 - 64 ] Calculating vectors...\n"
     ]
    },
    {
     "data": {
      "image/png": "[encoded data removed]",
      "text/plain": [
       "<Figure size 864x720 with 2 Axes>"
      ]
     },
     "metadata": {
      "needs_background": "light"
     },
     "output_type": "display_data"
    },
    {
     "name": "stdout",
     "output_type": "stream",
     "text": [
      "pairs found: 10\n",
      "Не спали.\n",
      "\n",
      "他们没睡觉。\n",
      "\n",
      "> proxy [0.9223]: Они не спали.\n",
      "----------------------------------------------------------\n",
      "Буркин лежал внутри на сене, и его не было видно в потемках.\n",
      "\n",
      "布尔金躺在房里的干草上，在黑暗里谁也看不见他。\n",
      "\n",
      "> proxy [0.9414]: Буркин лежал на сене в комнате, и никто не мог видеть его в темноте.\n",
      "----------------------------------------------------------\n",
      "Быть может, тут явление атавизма, возвращение к тому времени, когда предок человека не был еще общественным животным и жил одиноко в своей берлоге, а может быть, это просто одна из разновидностей человеческого характера,— кто знает?\n",
      "\n",
      "也许这是隔代遗传的现象，重又退回从前人类祖先还不是群居的动物而是孤零零地住在各自洞穴里的时代的现象，不过，也许这只不过是人类性格的一种类型吧，谁知道呢？\n",
      "\n",
      "> proxy [0.9216]: Может быть, это генетическое явление межпоколенческого, и возвращение к бывшим предкам человека не животные, но живут в одиночку в своих пещерах этого явления, но, возможно, это всего лишь тип человеческого характера, кто знает?\n",
      "----------------------------------------------------------\n",
      "Да вот, недалеко искать, месяца два назад умер у нас в городе некий Беликов, учитель греческого языка, мой товарищ.\n",
      "\n",
      "是啊，不必往远里去找，就拿一个姓别里科夫的人来说好了，他是我的同事，希腊语教师，大约两个月前在我们城里去世了。\n",
      "\n",
      "> proxy [0.9444]: Да, не ходите далеко, просто возьмите человека по фамилии Берыков, мой коллега, греческий учитель, который умер в нашем городе около двух месяцев назад.\n",
      "----------------------------------------------------------\n",
      "И зонтик у него был в чехле и часы в чехле из серой замши, и когда вынимал перочинный нож, чтобы очинить карандаш, то и нож у него был в чехольчике; и лицо, казалось, тоже было в чехле, так как он все время прятал его в поднятый воротник.\n",
      "\n",
      "他的雨伞总是装在套子里，怀表也总是装在一个灰色的麂皮套子里，遇到他拿出小折刀来削铅笔，就连那小折刀也是装在一个小小的套子里的。\n",
      "\n",
      "> proxy [0.9080]: Его зонтик всегда в рукаве, карманные часы всегда в сером кожаном футляре, встретилего его, чтобы достал небольшой складной нож, чтобы вырезать карандаш, даже что небольшой складной нож также установлен в маленьком рукаве.\n",
      "----------------------------------------------------------\n",
      "Мы, учителя, боялись его.\n",
      "\n",
      "我们这些教师都怕他。\n",
      "\n",
      "> proxy [1.0000]: Мы, учителя, боимся его.\n",
      "----------------------------------------------------------\n",
      "Под влиянием таких людей, как Беликов, за последние десять — пятнадцать лет в нашем городе стали бояться всего.\n",
      "\n",
      "在别里科夫这类人的影响下，在最近这十年到十五年间，我们全城的人变得什么都怕。\n",
      "\n",
      "> proxy [0.9726]: Под влиянием таких людей, как Берыков, за последние десять-пятнадцать лет люди по всему нашему городу стали бояться всего.\n",
      "----------------------------------------------------------\n",
      "Ложась спать, он укрывался с головой; было жарко, душно, в закрытые двери стучался ветер, в печке гудело; слышались вздохи из кухни, вздохи зловещие...\n",
      "\n",
      "他上床睡觉，就拉过被子来蒙上脑袋;房里又热又闷，风推动关紧的门，炉子里嗡嗡地响，厨房里传来叹息声，不祥的叹息声……他躺在被子底下战战兢兢。\n",
      "\n",
      "> proxy [0.9579]: Он лег спать, он остановил одеяло, чтобы покрыть голову; в комнате было жарко и душно, ветер толкнул закрытую дверь, печь гудела, кухня пришла со вздохами, зловещими вздохами... Он лежал под одеялом и воевал.\n",
      "----------------------------------------------------------\n",
      "Он боялся, как бы чего не вышло, как бы его не зарезал Афанасий, как бы не забрались воры, и потом всю ночь видел тревожные сны, а утром, когда мы вместе шли в гимназию, был скучен, бледен, и было видно, что многолюдная гимназия, в которую он шел, была страшна, противна всему существу ею и что идти рядом со мной ему, человеку по натуре одинокому, было тяжко.\n",
      "\n",
      "他深怕会出什么事，深怕阿法纳西来杀他，深怕小偷溜进来，然后他就通宵做醒梦，到早晨我们一块儿到学校去的时候，他闷闷不乐，脸色苍白。\n",
      "\n",
      "> proxy [0.9486]: Он боялся, что что-то случится, боялся, что Афанаси убьет его, боялся, что вор проскользнет, а потом всю ночь у него был тревожный звонок, и к утру, когда мы вместе ходили в школу, он был подавлен и бледный.\n",
      "----------------------------------------------------------\n",
      "Он боялся, как бы чего не вышло, как бы его не зарезал Афанасий, как бы не забрались воры, и потом всю ночь видел тревожные сны, а утром, когда мы вместе шли в гимназию, был скучен, бледен, и было видно, что многолюдная гимназия, в которую он шел, была страшна, противна всему существу ею и что идти рядом со мной ему, человеку по натуре одинокому, было тяжко.\n",
      "\n",
      "我们的教室里吵得很凶，他说,仿佛极力要找一个理由说明他的愁闷似的，太不像话了。\n",
      "\n",
      "> proxy [0.9193]: Наш класс был очень шумным, сказал он, как будто пытаясь найти причину, чтобы объяснить свою печаль, слишком плохо говорит.\n",
      "----------------------------------------------------------\n",
      "----------------------------------------------------------\n",
      "batch: 2 [ 64 - 128 ] Calculating vectors...\n"
     ]
    },
    {
     "data": {
      "image/png": "[encoded data removed]",
      "text/plain": [
       "<Figure size 864x720 with 2 Axes>"
      ]
     },
     "metadata": {
      "needs_background": "light"
     },
     "output_type": "display_data"
    },
    {
     "name": "stdout",
     "output_type": "stream",
     "text": [
      "pairs found: 8\n",
      "У Ивана Иваныча была довольно странная, двойная фамилия — Чимша—Гималайский, которая совсем не шла ему, и его во всей губернии звали просто по имени и отчеству; он жил около города на конском заводе и приехал теперь на охоту, чтобы подышать чистым воздухом.\n",
      "\n",
      "他们没睡觉。\n",
      "\n",
      "> proxy [0.9142]: Они не спали.\n",
      "----------------------------------------------------------\n",
      "Учитель же гимназии Буркин каждое лето гостил у графов П. и в этой местности давно уже был своим человеком.\n",
      "\n",
      "伊万伊万内奇是一个又高又瘦的老人，留着挺长的唇髭，这时候坐在门口，脸朝外，吸着烟斗。\n",
      "\n",
      "> proxy [0.9056]: Иван Иванех был высоким и худым стариком с длинной губой, сидящим у двери, лицом наружу, курящим трубку.\n",
      "----------------------------------------------------------\n",
      "— Что же тут удивительного! — сказал Буркин.— Людей, одиноких по натуре, которые, как рак—отшельник или улитка, стараются уйти в свою скорлупу, на этом свете немало.\n",
      "\n",
      "也许这是隔代遗传的现象，重又退回从前人类祖先还不是群居的动物而是孤零零地住在各自洞穴里的时代的现象，不过，也许这只不过是人类性格的一种类型吧，谁知道呢？\n",
      "\n",
      "> proxy [0.9455]: Может быть, это генетическое явление межпоколенческого, и возвращение к бывшим предкам человека не животные, но живут в одиночку в своих пещерах этого явления, но, возможно, это всего лишь тип человеческого характера, кто знает?\n",
      "----------------------------------------------------------\n",
      "Для него были ясны только циркуляры и газетные статьи, в которых запрещалось что—нибудь.\n",
      "\n",
      "他说，现出甜滋滋的表情。\n",
      "\n",
      "> proxy [0.9539]: Он сказал, что есть сладкое выражение.\n",
      "----------------------------------------------------------\n",
      "В разрешении же и позволении скрывался для него всегда элемент сомнительный, что—то недосказанное и смутное.\n",
      "\n",
      "看到有个告示禁止中学生在晚上九点钟以后到街上去，或者看到一篇文章要求禁止性爱，他就觉着又清楚又明白这种事是禁止的，这就行了。\n",
      "\n",
      "> proxy [0.9392]: Когда он видит уведомление, которое запрещает учащихся средних школ с улиц после девяти часов вечера, или статью, призывающую к запрету на секс, он чувствует себя ясно и понимает, что такие вещи запрещены.\n",
      "----------------------------------------------------------\n",
      "Наши дамы по субботам домашних спектаклей не устраивали, боялись, как бы он не узнал; и духовенство стеснялось при нем кушать скоромное и играть в карты.\n",
      "\n",
      "有他在，教士们到了斋期就不敢吃荤，不敢打牌。\n",
      "\n",
      "> proxy [0.9134]: Вот он, священники быстро вскакивая не смеют есть, не смеют играть в карты.\n",
      "----------------------------------------------------------\n",
      "Ложась спать, он укрывался с головой; было жарко, душно, в закрытые двери стучался ветер, в печке гудело; слышались вздохи из кухни, вздохи зловещие...\n",
      "\n",
      "伊万。\n",
      "\n",
      "> proxy [0.9626]: Иван.\n",
      "----------------------------------------------------------\n",
      "И ему было страшно под одеялом.\n",
      "\n",
      "真的，尽管说起来古怪，可是他的确差点结了婚。\n",
      "\n",
      "> proxy [0.9138]: Действительно, он был почти женат, хотя это было странно.\n",
      "----------------------------------------------------------\n",
      "----------------------------------------------------------\n",
      "batch: 3 [ 128 - 192 ] Calculating vectors...\n"
     ]
    },
    {
     "data": {
      "image/png": "[encoded data removed]",
      "text/plain": [
       "<Figure size 864x720 with 2 Axes>"
      ]
     },
     "metadata": {
      "needs_background": "light"
     },
     "output_type": "display_data"
    },
    {
     "name": "stdout",
     "output_type": "stream",
     "text": [
      "pairs found: 16\n",
      "Их было только двое: ветеринарный врач Иван Иваныч и учитель гимназии Буркин.\n",
      "\n",
      "月亮照在他身上。\n",
      "\n",
      "> proxy [0.9280]: Луна сияла на нем.\n",
      "----------------------------------------------------------\n",
      "У Ивана Иваныча была довольно странная, двойная фамилия — Чимша—Гималайский, которая совсем не шла ему, и его во всей губернии звали просто по имени и отчеству; он жил около города на конском заводе и приехал теперь на охоту, чтобы подышать чистым воздухом.\n",
      "\n",
      "布尔金躺在房里的干草上，在黑暗里谁也看不见他。\n",
      "\n",
      "> proxy [0.9316]: Буркин лежал на сене в комнате, и никто не мог видеть его в темноте.\n",
      "----------------------------------------------------------\n",
      "Быть может, тут явление атавизма, возвращение к тому времени, когда предок человека не был еще общественным животным и жил одиноко в своей берлоге, а может быть, это просто одна из разновидностей человеческого характера,— кто знает?\n",
      "\n",
      "他所以出名，是因为他即使在顶晴朗的天气出门上街，也穿上套鞋，带着雨伞，而且一定穿着暖和的棉大衣。\n",
      "\n",
      "> proxy [0.9279]: Он прославился тем, что был одет в обувь, зонтик и теплую хлопчатобумажную шубу, даже когда выходил на улицу в первый солнечный день.\n",
      "----------------------------------------------------------\n",
      "Когда в городе разрешали драматический кружок, или читальню, или чайную, то он покачивал головой и говорил тихо: — Оно, конечно, так—то так, все это прекрасно, да как бы чего не вышло.\n",
      "\n",
      "在教务会议上，他那种慎重他那种多疑他那种纯粹套子式的论调，简直压得我们透不出气，他说什么不管男子中学里也好，女子中学里也好，青年人都品行恶劣，教室里希腊语人。\n",
      "\n",
      "> proxy [0.9154]: На конференции, его вид осторожный вид сомнения гениальный его вид чистого стиля тона, трудно поставить нас дышащий, он сказал, что независимо от того, что средняя школа мужчин хорошо, средняя школа девочек также хорошо, молодые люди плохой характер, класс греческий.\n",
      "----------------------------------------------------------\n",
      "Всякого рода нарушения, уклонения, отступления от правил приводили его в уныние, хотя, казалось бы, какое ему дело?\n",
      "\n",
      "159吵。\n",
      "\n",
      "> proxy [0.9308]: Шумно.\n",
      "----------------------------------------------------------\n",
      "А на педагогических советах он просто угнетал нас своею осторожностью, мнительностью и своими чисто футлярными соображениями насчет того, что вот—де в мужской и женской гимназиях молодежь ведет себя дурно, очень шумит в классах,— ах, как бы не дошло до начальства, ах, как бы чего не вышло,— и что если б из второго класса исключить Петрова, а из четвертого — Егорова, то было бы очень хорошо.\n",
      "\n",
      "哎呀，千万别闹出什么乱子来啊，还说如果把二年级的彼得罗夫和四年级的叶果罗夫开除，那倒很好。\n",
      "\n",
      "> proxy [0.9085]: Увы, не шумите и говорите, что было бы неплохо уволить второго года Петрова и четвертого класса Егорова.\n",
      "----------------------------------------------------------\n",
      "Это называлось у него \"поддерживать добрые отношения с товарищами\", и, очевидно, ходить к нам и сидеть было для него тяжело, и ходил он к нам только потому, что считал это своею товарищескою обязанностью.\n",
      "\n",
      "他照这样一言不发地坐上一两个钟头，就走了。\n",
      "\n",
      "> proxy [0.9140]: Он сидел в течение часа или двух таким образом, как он сделал, и ушел.\n",
      "----------------------------------------------------------\n",
      "Весь город!\n",
      "\n",
      "全城都受他辖制呢！\n",
      "\n",
      "> proxy [0.9468]: Весь город под его контролем!\n",
      "----------------------------------------------------------\n",
      "Боятся громко говорить, посылать письма, знакомиться, читать книги, боятся помогать бедным, учить грамоте...\n",
      "\n",
      "在别里科夫这类人的影响下，在最近这十年到十五年间，我们全城的人变得什么都怕。\n",
      "\n",
      "> proxy [0.9292]: Под влиянием таких людей, как Берыков, за последние десять-пятнадцать лет люди по всему нашему городу стали бояться всего.\n",
      "----------------------------------------------------------\n",
      "Мыслящие, порядочные, читают и Щедрина, и Тургенева, разных там Боклей и прочее, а вот подчинились же, терпели...\n",
      "\n",
      "伊万内奇想说点什么，嗽了嗽喉咙，可是他先点燃烟斗，瞧了瞧月亮，然后才一板一眼地讲起来是啊，有思想的正派人，既读屠格涅夫，又读谢德林，还读勃克尔等等，可是他们却屈服，容忍这种事……问题就在这儿了。\n",
      "\n",
      "> proxy [0.9866]: Иванеч хотел что-то сказать, кашляя горлом, но сначала зажег трубку, посмотрел на луну, а потом с первого взгляда заговорил, мыслимые порядочные люди, оба читали Тугенева, читали Шедлина, читали Буркера и так далее, но они поддались и терпели такие вещи... В этом-то и проблема.\n",
      "----------------------------------------------------------\n",
      "Постное есть вредно, а скоромное нельзя, так как, пожалуй, скажут, что Беликов не исполняет постов, и он ел судака на коровьем масле,— пища не постная, но и нельзя сказать, чтобы скоромная.\n",
      "\n",
      "，吃素对健康有害，可是吃荤又不行，因为人家也许会说别里科夫不持斋。\n",
      "\n",
      "> proxy [0.9366]: Вегетарианское питание вредно для здоровья, но есть пули не хорошо, потому что люди могут сказать, что Бериков не постится.\n",
      "----------------------------------------------------------\n",
      "Женской прислуги он не держал из страха, чтобы о нем не думали дурно, а держал повара Афанасия, старика лет шестидесяти, нетрезвого и полоумного, который когда—то служил в денщиках и умел кое—как стряпать.\n",
      "\n",
      "他就吃用奶油煎的鲈鱼，这东西固然不是素食，可也不勃克尔18211862，英国历史学家社会学家哲学家。\n",
      "\n",
      "> proxy [0.9206]: Он съел сливочную сельдь, которая была не вегетарианской, но не британским историком и социологом.\n",
      "----------------------------------------------------------\n",
      "Он боялся, как бы чего не вышло, как бы его не зарезал Афанасий, как бы не забрались воры, и потом всю ночь видел тревожные сны, а утром, когда мы вместе шли в гимназию, был скучен, бледен, и было видно, что многолюдная гимназия, в которую он шел, была страшна, противна всему существу ею и что идти рядом со мной ему, человеку по натуре одинокому, было тяжко.\n",
      "\n",
      "他上床睡觉，就拉过被子来蒙上脑袋;房里又热又闷，风推动关紧的门，炉子里嗡嗡地响，厨房里传来叹息声，不祥的叹息声……他躺在被子底下战战兢兢。\n",
      "\n",
      "> proxy [0.9430]: Он лег спать, он остановил одеяло, чтобы покрыть голову; в комнате было жарко и душно, ветер толкнул закрытую дверь, печь гудела, кухня пришла со вздохами, зловещими вздохами... Он лежал под одеялом и воевал.\n",
      "----------------------------------------------------------\n",
      "— Очень уж шумят у нас в классах,— говорил он, как бы стараясь отыскать объяснение своему тяжелому чувству.— Ни на что не похоже.\n",
      "\n",
      "他所去的那个有很多人的学校，分明使得他满心的害怕和憎恶。\n",
      "\n",
      "> proxy [0.9036]: Школа, в которой он учился, была полна страха и ненависти.\n",
      "----------------------------------------------------------\n",
      "И этот учитель греческого языка, этот человек в футляре, можете себе представить, едва не женился.\n",
      "\n",
      "跟我并排走路，对他那么一个性情孤僻的人来说，显然也是苦事。\n",
      "\n",
      "> proxy [0.9274]: Ходьба бок о бок со мной, очевидно, горькая вещь для тех, кто так сексуально изолированы.\n",
      "----------------------------------------------------------\n",
      "Иван Иваныч быстро оглянулся в сарай и сказал: — Шутите!\n",
      "\n",
      "我们的教室里吵得很凶，他说,仿佛极力要找一个理由说明他的愁闷似的，太不像话了。\n",
      "\n",
      "> proxy [0.9529]: Наш класс был очень шумным, сказал он, как будто пытаясь найти причину, чтобы объяснить свою печаль, слишком плохо говорит.\n",
      "----------------------------------------------------------\n",
      "----------------------------------------------------------\n",
      "batch: 4 [ 192 - 256 ] Calculating vectors...\n"
     ]
    },
    {
     "data": {
      "image/png": "[encoded data removed]",
      "text/plain": [
       "<Figure size 864x720 with 2 Axes>"
      ]
     },
     "metadata": {
      "needs_background": "light"
     },
     "output_type": "display_data"
    },
    {
     "name": "stdout",
     "output_type": "stream",
     "text": [
      "pairs found: 9\n",
      "У Ивана Иваныча была довольно странная, двойная фамилия — Чимша—Гималайский, которая совсем не шла ему, и его во всей губернии звали просто по имени и отчеству; он жил около города на конском заводе и приехал теперь на охоту, чтобы подышать чистым воздухом.\n",
      "\n",
      "伊万内奇姓一个相当古怪的双姓奇姆沙吉马莱斯基，这个姓跟他一点也不相称，全省的人就简单地叫他的本名和父名伊万伊万内奇。\n",
      "\n",
      "> proxy [0.9064]: Фамилия Иванеха была довольно странным двойным именем, Чим Сагималески, которое его совсем не совпадало, и жители провинции просто называли его своим именем и фамилией отца, Иваном Иванехом.\n",
      "----------------------------------------------------------\n",
      "Иван Иваныч, высокий худощавый старик с длинными усами, сидел снаружи у входа и курил трубку; его освещала луна.\n",
      "\n",
      "月亮照在他身上。\n",
      "\n",
      "> proxy [0.9790]: Луна сияла на нем.\n",
      "----------------------------------------------------------\n",
      "Быть может, тут явление атавизма, возвращение к тому времени, когда предок человека не был еще общественным животным и жил одиноко в своей берлоге, а может быть, это просто одна из разновидностей человеческого характера,— кто знает?\n",
      "\n",
      "这有什么可奇怪的！\n",
      "\n",
      "> proxy [0.9511]: Что в этом странного!\n",
      "----------------------------------------------------------\n",
      "Я не естественник, и не мое дело касаться подобных вопросов; я только хочу сказать, что такие люди, как Мавра, явление не редкое.\n",
      "\n",
      "布尔金说，那种性情孤僻像寄生蟹或者蜗牛那样极力缩进自己的硬壳里去的人，这世界上有不少呢。\n",
      "\n",
      "> proxy [0.9417]: Булкин говорит Есть много людей в мире, которые так изолированы, как паразитических крабов или улиток пытаются отступв в их твердых оболочек.\n",
      "----------------------------------------------------------\n",
      "Он носил темные очки, фуфайку, уши закладывал ватой, и когда садился на извозчика, то приказывал поднимать верх.\n",
      "\n",
      "他所以出名，是因为他即使在顶晴朗的天气出门上街，也穿上套鞋，带着雨伞，而且一定穿着暖和的棉大衣。\n",
      "\n",
      "> proxy [0.9226]: Он прославился тем, что был одет в обувь, зонтик и теплую хлопчатобумажную шубу, даже когда выходил на улицу в первый солнечный день.\n",
      "----------------------------------------------------------\n",
      "А на педагогических советах он просто угнетал нас своею осторожностью, мнительностью и своими чисто футлярными соображениями насчет того, что вот—де в мужской и женской гимназиях молодежь ведет себя дурно, очень шумит в классах,— ах, как бы не дошло до начальства, ах, как бы чего не вышло,— и что если б из второго класса исключить Петрова, а из четвертого — Егорова, то было бы очень хорошо.\n",
      "\n",
      "看到有个告示禁止中学生在晚上九点钟以后到街上去，或者看到一篇文章要求禁止性爱，他就觉着又清楚又明白这种事是禁止的，这就行了。\n",
      "\n",
      "> proxy [0.9291]: Когда он видит уведомление, которое запрещает учащихся средних школ с улиц после девяти часов вечера, или статью, призывающую к запрету на секс, он чувствует себя ясно и понимает, что такие вещи запрещены.\n",
      "----------------------------------------------------------\n",
      "Вот подите же, наши учителя народ все мыслящий, глубоко порядочный, воспитанный на Тургеневе и Щедрине, однакоже этот человечек, ходивший всегда в калошах и с зонтиком, держал в руках всю гимназию целых пятнадцать лет!\n",
      "\n",
      "他把这叫做跟同事们保持良好关系。\n",
      "\n",
      "> proxy [0.9151]: Он называет это хорошими отношениями со своими коллегами.\n",
      "----------------------------------------------------------\n",
      "Весь город!\n",
      "\n",
      "他所以来看我们，只不过是因为他认为这是对同事们应尽的责任罢了。\n",
      "\n",
      "> proxy [0.9188]: Он пришел к нам только потому, что считал, что это долг перед коллегами.\n",
      "----------------------------------------------------------\n",
      "И дома та же история: халат, колпак, ставни, задвижки, целый ряд всяких запрещений, ограничений, и — ах, как бы чего не вышло!\n",
      "\n",
      "在别里科夫这类人的影响下，在最近这十年到十五年间，我们全城的人变得什么都怕。\n",
      "\n",
      "> proxy [0.9282]: Под влиянием таких людей, как Берыков, за последние десять-пятнадцать лет люди по всему нашему городу стали бояться всего.\n",
      "----------------------------------------------------------\n"
     ]
    }
   ],
   "source": [
    "#batching\n",
    "batch_size = 64\n",
    "threshold = 0.90\n",
    "window = 12\n",
    "\n",
    "with open(splitted_ru, mode=\"r\", encoding=\"utf-8\") as input_ru, \\\n",
    "     open(splitted_zh, mode=\"r\", encoding=\"utf-8\") as input_zh, \\\n",
    "     open(proxy_ru, mode=\"r\", encoding=\"utf-8\") as input_proxy:\n",
    "    lines_ru = input_ru.readlines()\n",
    "    lines_zh = input_zh.readlines()\n",
    "    lines_ru_proxy = input_proxy.readlines()\n",
    "\n",
    "batch_number = 0\n",
    "total_pairs = 0\n",
    "with open(output_ru, mode='w', encoding='utf-8') as out_ru, open(output_zh, mode='w', encoding='utf-8') as out_zh:\n",
    "    for lines_ru_batch, lines_ru_proxy_batch, lines_zh_batch in get_batch(lines_ru, lines_ru_proxy, lines_zh, batch_size):\n",
    "        batch_number += 1\n",
    "\n",
    "        print(\"----------------------------------------------------------\")\n",
    "        print(\"batch:\", batch_number, \"[\", (batch_number-1) * batch_size, \"-\", batch_number * batch_size, \"]\", \"Calculating vectors...\")\n",
    "\n",
    "        vectors_ru1 = get_line_vectors(lines_ru_proxy_batch)\n",
    "        vectors_ru2 = get_line_vectors(lines_ru_batch)\n",
    "        \n",
    "        sim_matrix = get_sim_matrix(vectors_ru1, vectors_ru2, window)\n",
    "        \n",
    "        #visualization\n",
    "        plt.figure(figsize=(12,10))\n",
    "        sns.heatmap(sim_matrix,cmap=\"Greens\", vmin=threshold)\n",
    "        plt.show()\n",
    "        \n",
    "        count = 0\n",
    "        for i in range(sim_matrix.shape[0]):\n",
    "            for j in range(sim_matrix.shape[1]):\n",
    "                if sim_matrix[i,j] >= threshold:\n",
    "                    count += 1\n",
    "        total_pairs += count\n",
    "        print(\"\\nPairs found:\", count, \"\\n\")\n",
    "        print(\"\\nTotal pairs found:\", total_pairs, \"\\n\")\n",
    "        \n",
    "        res_ru, res_zh, res_ru_proxy, sims = get_pairs(lines_ru_batch, lines_zh_batch, lines_ru_proxy_batch, sim_matrix, threshold)\n",
    "        \n",
    "        write_log = True\n",
    "\n",
    "        with open(output_ru, mode=\"w\", encoding=\"utf-8\") as out_ru, \\\n",
    "             open(output_zh, mode=\"w\", encoding=\"utf-8\") as out_zh:\n",
    "            for ru,zh,pr,sim in zip(res_ru, res_zh, res_ru_proxy, sims):\n",
    "                out_ru.write(ru)\n",
    "                out_zh.write(zh)\n",
    "                print(ru)\n",
    "                print(zh)    \n",
    "                if write_log:\n",
    "                    print(f\"> proxy [{sim:.4f}]: {pr.strip()}\")\n",
    "                    print(\"----------------------------------------------------------\")"
   ]
  },
  {
   "cell_type": "code",
   "execution_count": null,
   "metadata": {},
   "outputs": [],
   "source": []
  }
 ],
 "metadata": {
  "kernelspec": {
   "display_name": "Python 3.8.2 64-bit",
   "language": "python",
   "name": "python38264bit6a1a1228bf2f47adba44e2e25f240908"
  },
  "language_info": {
   "codemirror_mode": {
    "name": "ipython",
    "version": 3
   },
   "file_extension": ".py",
   "mimetype": "text/x-python",
   "name": "python",
   "nbconvert_exporter": "python",
   "pygments_lexer": "ipython3",
   "version": "3.8.2"
  }
 },
 "nbformat": 4,
 "nbformat_minor": 4
}
