{
 "cells": [
  {
   "cell_type": "markdown",
   "metadata": {},
   "source": [
    "# Text Alignment Pipeline"
   ]
  },
  {
   "cell_type": "markdown",
   "metadata": {},
   "source": [
    "## 1. Objective"
   ]
  },
  {
   "cell_type": "markdown",
   "metadata": {},
   "source": [
    "Align two raw texts in different languages and extract as much parallel sentences as possible.\n",
    "In this particular case there are two texts in Chinese and Russian."
   ]
  },
  {
   "cell_type": "markdown",
   "metadata": {},
   "source": [
    "## 2. Pipeline"
   ]
  },
  {
   "cell_type": "code",
   "execution_count": 2,
   "metadata": {},
   "outputs": [],
   "source": [
    "import pymorphy2\n",
    "import re\n",
    "import torch\n",
    "import seaborn as sns\n",
    "import numpy as np\n",
    "import razdel\n",
    "import os\n",
    "\n",
    "from scipy import spatial\n",
    "from matplotlib import pyplot as plt\n",
    "from transformers import AutoTokenizer, AutoModelWithLMHead"
   ]
  },
  {
   "cell_type": "code",
   "execution_count": 11,
   "metadata": {},
   "outputs": [],
   "source": [
    "basepath = r\"D:\\ml\\tap\"\n",
    "\n",
    "file_ru = \"chekhov_futlar_ru.txt\"\n",
    "file_zh = \"chekhov_futlar_zh.txt\"\n",
    "\n",
    "raw_path = os.path.join(basepath, \"raw\")\n",
    "splitted_path = os.path.join(basepath, \"splitted\")\n",
    "proxy_path = os.path.join(basepath, \"proxy\")\n",
    "output_path = os.path.join(basepath, \"done\")\n",
    "\n",
    "raw_ru = os.path.join(raw_path, file_ru)\n",
    "raw_zh = os.path.join(raw_path, file_zh)\n",
    "splitted_ru = os.path.join(splitted_path, file_ru)\n",
    "splitted_zh = os.path.join(splitted_path, file_zh)\n",
    "proxy_ru = os.path.join(proxy_path, file_ru)\n",
    "output_ru = os.path.join(output_path, file_ru)\n",
    "output_zh = os.path.join(output_path, file_zh)\n",
    "\n",
    "if not os.path.exists(basepath):\n",
    "    os.mkdir(basepath)\n",
    "    \n",
    "if not os.path.exists(raw_path):\n",
    "    os.mkdir(raw_path)\n",
    "    \n",
    "if not os.path.exists(splitted_path):\n",
    "    os.mkdir(splitted_path)\n",
    "    \n",
    "if not os.path.exists(proxy_path):\n",
    "    os.mkdir(proxy_path)\n",
    "    \n",
    "if not os.path.exists(output_path):\n",
    "    os.mkdir(output_path)"
   ]
  },
  {
   "cell_type": "markdown",
   "metadata": {},
   "source": [
    "### 2.1 Split texts to sentences"
   ]
  },
  {
   "cell_type": "markdown",
   "metadata": {},
   "source": [
    "#### Russian"
   ]
  },
  {
   "cell_type": "code",
   "execution_count": 12,
   "metadata": {},
   "outputs": [
    {
     "name": "stdout",
     "output_type": "stream",
     "text": [
      "241\n"
     ]
    }
   ],
   "source": [
    "#Russian\n",
    "pattern_ru_orig = re.compile(r'[a-zA-Z\\(\\)\\[\\]\\/\\<\\>•\\'\\n]+')\n",
    "double_spaces = re.compile(r'[\\s]+')\n",
    "double_commas = re.compile(r'[,]+')\n",
    "double_dash = re.compile(r'[-—]+')\n",
    "\n",
    "with open(raw_ru, mode='r', encoding='utf-8') as input_ru, open(splitted_ru, mode='w', encoding='utf-8') as out_ru:\n",
    "    ru = ' '.join(input_ru.readlines())\n",
    "    ru = re.sub(pattern_ru_orig, '', ru)\n",
    "    ru = re.sub(double_spaces, ' ', ru)\n",
    "    ru = re.sub(double_commas, ',', ru)\n",
    "    ru = re.sub(double_dash, '—', ru)\n",
    "    \n",
    "    sent_ru = list(x.text for x in razdel.sentenize(ru))\n",
    "    \n",
    "    count = 1\n",
    "    for x in sent_ru:\n",
    "        if count < len(sent_ru)-1:\n",
    "            out_ru.write(x.strip() + \"\\n\")\n",
    "        else:\n",
    "            out_ru.write(x.strip())\n",
    "        count += 1\n",
    "            \n",
    "print(len(sent_ru))"
   ]
  },
  {
   "cell_type": "code",
   "execution_count": 14,
   "metadata": {
    "scrolled": true
   },
   "outputs": [
    {
     "data": {
      "text/plain": [
       "['На самом краю села Мироносицкого, в сарае старосты Прокофия, расположились на ночлег запоздавшие охотники.',\n",
       " 'Их было только двое: ветеринарный врач Иван Иваныч и учитель гимназии Буркин.',\n",
       " 'У Ивана Иваныча была довольно странная, двойная фамилия — Чимша—Гималайский, которая совсем не шла ему, и его во всей губернии звали просто по имени и отчеству; он жил около города на конском заводе и приехал теперь на охоту, чтобы подышать чистым воздухом.',\n",
       " 'Учитель же гимназии Буркин каждое лето гостил у графов П. и в этой местности давно уже был своим человеком.',\n",
       " 'Не спали.',\n",
       " 'Иван Иваныч, высокий худощавый старик с длинными усами, сидел снаружи у входа и курил трубку; его освещала луна.',\n",
       " 'Буркин лежал внутри на сене, и его не было видно в потемках.',\n",
       " 'Рассказывали разные истории.',\n",
       " 'Между прочим, говорили о том, что жена старосты, Мавра, женщина здоровая и неглупая, во всю свою жизнь нигде не была дальше своего родного села, никогда не видела ни города, ни железной дороги, а в последние десять лет все сидела за печью и только по ночам выходила на улицу.',\n",
       " '— Что же тут удивительного! — сказал Буркин.— Людей, одиноких по натуре, которые, как рак—отшельник или улитка, стараются уйти в свою скорлупу, на этом свете немало.']"
      ]
     },
     "execution_count": 14,
     "metadata": {},
     "output_type": "execute_result"
    }
   ],
   "source": [
    "sent_ru[:10]"
   ]
  },
  {
   "cell_type": "markdown",
   "metadata": {},
   "source": [
    "#### Chinese"
   ]
  },
  {
   "cell_type": "code",
   "execution_count": 13,
   "metadata": {},
   "outputs": [
    {
     "name": "stdout",
     "output_type": "stream",
     "text": [
      "311\n"
     ]
    }
   ],
   "source": [
    "#Chinese\n",
    "pattern_zh = re.compile(r'[」「“”„‟\\x1a⓪①②③④⑤⑥⑦⑧⑨⑩⑴⑵⑶⑷⑸⑹⑺⑻⑼⑽*a-zA-Zа-яА-Я\\(\\)\\[\\]\\s\\n\\/\\-\\:•＂＃＄％＆＇（）＊＋－／：；＜＝＞＠［＼］＾＿｀｛｜｝～｟｠｢｣､、〃》【】〔〕〖〗〘〙〜〟〰〾〿–—‘’‛‧﹏〉]+')\n",
    "pat_comma = re.compile(r'[\\.]+')\n",
    "\n",
    "def split_zh(paragraph):\n",
    "    for sent in re.findall(u'[^!?。！？\\.\\!\\?]+[!?。！？\\.\\!\\?]?', paragraph, flags=re.U):\n",
    "        yield sent\n",
    "\n",
    "with open(raw_zh, mode='r', encoding='utf-8') as input_zh, open(splitted_zh, mode='w', encoding='utf-8') as out_zh:\n",
    "    zh = ''.join(input_zh.readlines())    \n",
    "    zh = re.sub(pat_comma, '。', zh)\n",
    "                       \n",
    "    sent_zh = list(re.sub(pattern_zh,'',x.strip()) for x in split_zh(zh))\n",
    "\n",
    "    count = 1\n",
    "    for x in sent_zh:\n",
    "        if count < len(sent_zh)-1:\n",
    "            out_zh.write(x.strip() + \"\\n\")\n",
    "        else:\n",
    "            out_zh.write(x.strip())\n",
    "        count += 1\n",
    "        \n",
    "print(len(sent_zh))"
   ]
  },
  {
   "cell_type": "code",
   "execution_count": 15,
   "metadata": {},
   "outputs": [
    {
     "data": {
      "text/plain": [
       "['误了时辰的猎人们在米罗诺西茨科耶村边上村长普罗科菲的堆房里住下来过夜了。',\n",
       " '他们一共只有两个人兽医伊万伊万内奇和中学教师布尔金。',\n",
       " '伊万。',\n",
       " '伊万内奇姓一个相当古怪的双姓奇姆沙吉马莱斯基，这个姓跟他一点也不相称，全省的人就简单地叫他的本名和父名伊万伊万内奇。',\n",
       " '他住在城郊一个养马场上，这回出来打猎是为了透一透新鲜空气。',\n",
       " '然而中学教师布尔金每年夏天都在伯爵家里做客，对这个地区早已熟透了。',\n",
       " '他们没睡觉。',\n",
       " '伊万伊万内奇是一个又高又瘦的老人，留着挺长的唇髭，这时候坐在门口，脸朝外，吸着烟斗。',\n",
       " '月亮照在他身上。',\n",
       " '布尔金躺在房里的干草上，在黑暗里谁也看不见他。']"
      ]
     },
     "execution_count": 15,
     "metadata": {},
     "output_type": "execute_result"
    }
   ],
   "source": [
    "sent_zh[:10]"
   ]
  },
  {
   "cell_type": "markdown",
   "metadata": {},
   "source": [
    "### 2.2 Proxy text "
   ]
  },
  {
   "cell_type": "markdown",
   "metadata": {},
   "source": [
    "Proxy text is a **splitted_zh** file machine translated to Russian. Translate it with the Google, Amazon, Bing, Yandex, etc. and **put in the proxy folder**."
   ]
  },
  {
   "cell_type": "code",
   "execution_count": 21,
   "metadata": {},
   "outputs": [
    {
     "name": "stdout",
     "output_type": "stream",
     "text": [
      "Proxy file is found:\n",
      "D:\\ml\\tap\\proxy\\chekhov_futlar_ru.txt\n",
      "\n"
     ]
    }
   ],
   "source": [
    "#check if proxy file exists\n",
    "if not(os.path.isfile(proxy_ru)):\n",
    "    raise Exception(\"Proxy file not found:\", proxy_ru)\n",
    "\n",
    "print(\"Proxy file is found:\")\n",
    "print(proxy_ru + \"\\n\")"
   ]
  },
  {
   "cell_type": "markdown",
   "metadata": {},
   "source": [
    "### 2.3 Sentences to vectors"
   ]
  },
  {
   "cell_type": "code",
   "execution_count": 17,
   "metadata": {},
   "outputs": [],
   "source": [
    "tokenizer = AutoTokenizer.from_pretrained(\"DeepPavlov/rubert-base-cased-sentence\")\n",
    "model = AutoModelWithLMHead.from_pretrained(\"DeepPavlov/rubert-base-cased-sentence\")\n",
    "\n",
    "def get_sent_vec(text):\n",
    "    tokenized_text = tokenizer.encode(text, add_special_tokens=True)\n",
    "    tokens_tensor = torch.tensor(tokenized_text).unsqueeze(0)\n",
    "    model.eval()\n",
    "    with torch.no_grad():\n",
    "        return model(tokens_tensor)[0]"
   ]
  },
  {
   "cell_type": "code",
   "execution_count": 18,
   "metadata": {},
   "outputs": [],
   "source": [
    "first_numbers = re.compile(r'^[0-9,\\.]+')\n",
    "last_punct = re.compile(r'[,\\.]+$')\n",
    "multiple_spaces = re.compile(r'\\s+')\n",
    "pattern_ru = re.compile(r'[a-zA-Z\\.\\(\\)\\[\\]\\/\\-\\:!?\\<\\>;•\\\"\\'«»——,]+')\n",
    "\n",
    "#lemmatization\n",
    "morph = pymorphy2.MorphAnalyzer()\n",
    "\n",
    "def get_file_vectors(path_ru):\n",
    "    ru_vectors = []\n",
    "    with open(path_ru, mode=\"r\", encoding=\"utf-8\") as input_ru:\n",
    "        for line_ru in input_ru.readlines():\n",
    "            line_ru = re.sub(pattern_ru, '', line_ru).strip()\n",
    "            line_ru = re.sub(last_punct, '', line_ru).strip()\n",
    "            line_ru = re.sub(first_numbers, '', line_ru).strip()\n",
    "            line_ru = re.sub(multiple_spaces, ' ', line_ru).strip()\n",
    "            line_ru = line_ru.lower()\n",
    "\n",
    "            line_ru = ' '.join(list(map(lambda x: morph.parse(x)[0].normal_form, line_ru.split())))\n",
    "            #print(line_ru)\n",
    "            ru_vectors.append(get_sent_vec(line_ru))\n",
    "    return ru_vectors"
   ]
  },
  {
   "cell_type": "code",
   "execution_count": 22,
   "metadata": {},
   "outputs": [],
   "source": [
    "vectors_ru1 = get_file_vectors(proxy_ru)\n",
    "vectors_ru2 = get_file_vectors(splitted_ru)"
   ]
  },
  {
   "cell_type": "markdown",
   "metadata": {},
   "source": [
    "### 2.4 Calculate similarity matrix"
   ]
  },
  {
   "cell_type": "code",
   "execution_count": 28,
   "metadata": {},
   "outputs": [],
   "source": [
    "def get_sim_matrix(ru_vec, ru_vec2, window=10):\n",
    "    sim_matrix=np.zeros((len(ru_vec), len(ru_vec2)))\n",
    "    #angle coefficient\n",
    "    k = len(ru_vec)/len(ru_vec2)\n",
    "    for i in range(len(ru_vec)):\n",
    "        for j in range(len(ru_vec2)):\n",
    "            if (j*k > i-window) & (j*k < i+window):\n",
    "                sim = 1 - spatial.distance.cosine(ru_vec[i][0,-1,:], ru_vec2[j][0,-1,:])\n",
    "                sim_matrix[i,j] = sim\n",
    "    return sim_matrix"
   ]
  },
  {
   "cell_type": "code",
   "execution_count": 29,
   "metadata": {},
   "outputs": [],
   "source": [
    "sim_matrix = get_sim_matrix(vectors_ru1, vectors_ru2, 12)"
   ]
  },
  {
   "cell_type": "markdown",
   "metadata": {},
   "source": [
    "### 2.5 Vizualization "
   ]
  },
  {
   "cell_type": "code",
   "execution_count": 61,
   "metadata": {},
   "outputs": [
    {
     "name": "stdout",
     "output_type": "stream",
     "text": [
      "pairs found: 62\n"
     ]
    },
    {
     "data": {
      "image/png": "[encoded data removed]",
      "text/plain": [
       "<Figure size 864x720 with 2 Axes>"
      ]
     },
     "metadata": {
      "needs_background": "light"
     },
     "output_type": "display_data"
    }
   ],
   "source": [
    "threshold = 0.91\n",
    "\n",
    "plt.figure(figsize=(12,10))\n",
    "sns.heatmap(sim_matrix,cmap=\"Greens\", vmin=threshold)\n",
    "\n",
    "count = 0\n",
    "for i in range(sim_matrix.shape[0]):\n",
    "    for j in range(sim_matrix.shape[1]):\n",
    "        if sim_matrix[i,j] >= threshold:\n",
    "            count += 1\n",
    "        \n",
    "print(\"pairs found:\", count)"
   ]
  },
  {
   "cell_type": "markdown",
   "metadata": {},
   "source": [
    "### 2.6 Retrieve the parallel pairs"
   ]
  },
  {
   "cell_type": "code",
   "execution_count": 49,
   "metadata": {},
   "outputs": [],
   "source": [
    "def get_pairs(ru_lines, zh_lines, ru_proxy_lines, sim_matrix, threshold):\n",
    "    ru = []\n",
    "    zh = []\n",
    "    proxy = []\n",
    "    sims = []\n",
    "    for i in range(sim_matrix.shape[0]):\n",
    "        for j in range(sim_matrix.shape[1]):\n",
    "            if sim_matrix[i,j] >= threshold:\n",
    "                ru.append(ru_lines[j])\n",
    "                zh.append(zh_lines[i])\n",
    "                proxy.append(ru_proxy_lines[i])\n",
    "                sims.append(sim_matrix[i,j])\n",
    "    return ru,zh,proxy,sims"
   ]
  },
  {
   "cell_type": "code",
   "execution_count": 50,
   "metadata": {},
   "outputs": [],
   "source": [
    "with open(splitted_ru, mode=\"r\", encoding=\"utf-8\") as input_ru, \\\n",
    "     open(splitted_zh, mode=\"r\", encoding=\"utf-8\") as input_zh, \\\n",
    "     open(proxy_ru, mode=\"r\", encoding=\"utf-8\") as input_proxy:\n",
    "    lines_ru = input_ru.readlines()\n",
    "    lines_zh = input_zh.readlines()\n",
    "    lines_ru_proxy = input_proxy.readlines()    \n",
    "\n",
    "res_ru, res_zh, res_ru_proxy, sims = get_pairs(lines_ru, lines_zh, lines_ru_proxy, sim_matrix, threshold)"
   ]
  },
  {
   "cell_type": "code",
   "execution_count": 59,
   "metadata": {
    "scrolled": false
   },
   "outputs": [
    {
     "name": "stdout",
     "output_type": "stream",
     "text": [
      "Учитель же гимназии Буркин каждое лето гостил у графов П. и в этой местности давно уже был своим человеком.\n",
      "\n",
      "然而中学教师布尔金每年夏天都在伯爵家里做客，对这个地区早已熟透了。\n",
      "\n",
      "> proxy [0.9188]: Но Булкин, учитель средней школы, является гостем в доме графа каждое лето, и он уже хорошо знает этот район.\n",
      "----------------------------------------------------------\n",
      "Не спали.\n",
      "\n",
      "他们没睡觉。\n",
      "\n",
      "> proxy [0.9194]: Они не спали.\n",
      "----------------------------------------------------------\n",
      "Буркин лежал внутри на сене, и его не было видно в потемках.\n",
      "\n",
      "布尔金躺在房里的干草上，在黑暗里谁也看不见他。\n",
      "\n",
      "> proxy [0.9595]: Буркин лежал на сене в комнате, и никто не мог видеть его в темноте.\n",
      "----------------------------------------------------------\n",
      "Быть может, тут явление атавизма, возвращение к тому времени, когда предок человека не был еще общественным животным и жил одиноко в своей берлоге, а может быть, это просто одна из разновидностей человеческого характера,— кто знает?\n",
      "\n",
      "也许这是隔代遗传的现象，重又退回从前人类祖先还不是群居的动物而是孤零零地住在各自洞穴里的时代的现象，不过，也许这只不过是人类性格的一种类型吧，谁知道呢？\n",
      "\n",
      "> proxy [0.9324]: Может быть, это генетическое явление межпоколенческого, и возвращение к бывшим предкам человека не животные, но живут в одиночку в своих пещерах этого явления, но, возможно, это всего лишь тип человеческого характера, кто знает?\n",
      "----------------------------------------------------------\n",
      "Да вот, недалеко искать, месяца два назад умер у нас в городе некий Беликов, учитель греческого языка, мой товарищ.\n",
      "\n",
      "是啊，不必往远里去找，就拿一个姓别里科夫的人来说好了，他是我的同事，希腊语教师，大约两个月前在我们城里去世了。\n",
      "\n",
      "> proxy [0.9407]: Да, не ходите далеко, просто возьмите человека по фамилии Берыков, мой коллега, греческий учитель, который умер в нашем городе около двух месяцев назад.\n",
      "----------------------------------------------------------\n",
      "Он был замечателен тем, что всегда, даже в очень хорошую погоду, выходил в калошах и с зонтиком и непременно в теплом пальто на вате.\n",
      "\n",
      "他所以出名，是因为他即使在顶晴朗的天气出门上街，也穿上套鞋，带着雨伞，而且一定穿着暖和的棉大衣。\n",
      "\n",
      "> proxy [0.9266]: Он прославился тем, что был одет в обувь, зонтик и теплую хлопчатобумажную шубу, даже когда выходил на улицу в первый солнечный день.\n",
      "----------------------------------------------------------\n",
      "И зонтик у него был в чехле и часы в чехле из серой замши, и когда вынимал перочинный нож, чтобы очинить карандаш, то и нож у него был в чехольчике; и лицо, казалось, тоже было в чехле, так как он все время прятал его в поднятый воротник.\n",
      "\n",
      "他的雨伞总是装在套子里，怀表也总是装在一个灰色的麂皮套子里，遇到他拿出小折刀来削铅笔，就连那小折刀也是装在一个小小的套子里的。\n",
      "\n",
      "> proxy [0.9150]: Его зонтик всегда в рукаве, карманные часы всегда в сером кожаном футляре, встретилего его, чтобы достал небольшой складной нож, чтобы вырезать карандаш, даже что небольшой складной нож также установлен в маленьком рукаве.\n",
      "----------------------------------------------------------\n",
      "Одним словом, у этого человека наблюдалось постоянное и непреодолимое стремление окружить себя оболочкой, создать себе, так сказать, футляр, который уединил бы его, защитил бы от внешних влияний.\n",
      "\n",
      "总之，在这人身上可以看出一种经常的难忍难熬的心意，总想用一层壳把自己包起来，仿佛要为自己制造一个所谓的套子，好隔绝人世，不受外界影响。\n",
      "\n",
      "> proxy [0.9503]: Одним словом, в этом человеке можно увидеть в каком-то зачастую невыносимом сердце, всегда хочется использовать оболочку, чтобы обернуть себя, как бы создать для себя так называемый набор, хорошую изоляцию от мира, не затронутую внешним миром.\n",
      "----------------------------------------------------------\n",
      "И мысль свою Беликов также старался запрятать в футляр.\n",
      "\n",
      "别里科夫把他的思想也极力藏在套子里。\n",
      "\n",
      "> proxy [0.9190]: Берыков также пытался спрятать свои мысли в рукаве.\n",
      "----------------------------------------------------------\n",
      "В разрешении же и позволении скрывался для него всегда элемент сомнительный, что—то недосказанное и смутное.\n",
      "\n",
      "他觉着在官方批准或者允许的事里面，老是包含着使人起疑的成分，包含着隐隐约约还没说透的成分。\n",
      "\n",
      "> proxy [0.9335]: Он чувствовал, что в том, что было официально утверждено или разрешено, всегда имеются подозрительные элементы и что существуют элементы, которые являются смутно невысказанными.\n",
      "----------------------------------------------------------\n",
      "Если кто из товарищей опаздывал на молебен, или доходили слухи о какой—нибудь проказе гимназистов, пли видели классную даму поздно вечером с офицером, то он очень волновался и все говорил, как бы чего не вышло.\n",
      "\n",
      "要是他的一个同事参加祈祷式去迟了，或者要是他听到流言，说是中学生顽皮闹事，再不然要是有人看见一个女校的女学监傍晚陪着军官玩得很迟，他总是心慌意乱，一个劲儿地说千万别闹出什么乱子来啊。\n",
      "\n",
      "> proxy [0.9345]: Если один из его коллег принять участие в молитве идти поздно, или если он слышит слухи, что ученики средней школы озорной неприятности, или если кто-то видит девушку школьницу в вечернее время с офицером играть очень поздно, он всегда паника, сильный сказал не делать какой-либо беспорядок.\n",
      "----------------------------------------------------------\n",
      "В разрешении же и позволении скрывался для него всегда элемент сомнительный, что—то недосказанное и смутное.\n",
      "\n",
      "吵闹闹，哎呀，只求这种事别传到上司的耳朵里去才好！\n",
      "\n",
      "> proxy [0.9146]: Шумный, увы, просто попросите такого рода вещи не дойти до ушей босса, чтобы идти к хорошему!\n",
      "----------------------------------------------------------\n",
      "Мы, учителя, боялись его.\n",
      "\n",
      "我们这些教师都怕他。\n",
      "\n",
      "> proxy [1.0000]: Мы, учителя, боимся его.\n",
      "----------------------------------------------------------\n",
      "И даже директор боялся.\n",
      "\n",
      "我们这些教师都怕他。\n",
      "\n",
      "> proxy [0.9221]: Мы, учителя, боимся его.\n",
      "----------------------------------------------------------\n",
      "Мы, учителя, боялись его.\n",
      "\n",
      "就连校长也怕他。\n",
      "\n",
      "> proxy [0.9597]: Даже директор боялся его.\n",
      "----------------------------------------------------------\n",
      "И даже директор боялся.\n",
      "\n",
      "就连校长也怕他。\n",
      "\n",
      "> proxy [0.9454]: Даже директор боялся его.\n",
      "----------------------------------------------------------\n",
      "Под влиянием таких людей, как Беликов, за последние десять — пятнадцать лет в нашем городе стали бояться всего.\n",
      "\n",
      "在别里科夫这类人的影响下，在最近这十年到十五年间，我们全城的人变得什么都怕。\n",
      "\n",
      "> proxy [0.9745]: Под влиянием таких людей, как Берыков, за последние десять-пятнадцать лет люди по всему нашему городу стали бояться всего.\n",
      "----------------------------------------------------------\n",
      "Мыслящие, порядочные, читают и Щедрина, и Тургенева, разных там Боклей и прочее, а вот подчинились же, терпели...\n",
      "\n",
      "伊万内奇想说点什么，嗽了嗽喉咙，可是他先点燃烟斗，瞧了瞧月亮，然后才一板一眼地讲起来是啊，有思想的正派人，既读屠格涅夫，又读谢德林，还读勃克尔等等，可是他们却屈服，容忍这种事……问题就在这儿了。\n",
      "\n",
      "> proxy [0.9117]: Иванеч хотел что-то сказать, кашляя горлом, но сначала зажег трубку, посмотрел на луну, а потом с первого взгляда заговорил, мыслимые порядочные люди, оба читали Тугенева, читали Шедлина, читали Буркера и так далее, но они поддались и терпели такие вещи... В этом-то и проблема.\n",
      "----------------------------------------------------------\n",
      "Ложась спать, он укрывался с головой; было жарко, душно, в закрытые двери стучался ветер, в печке гудело; слышались вздохи из кухни, вздохи зловещие...\n",
      "\n",
      "他上床睡觉，就拉过被子来蒙上脑袋;房里又热又闷，风推动关紧的门，炉子里嗡嗡地响，厨房里传来叹息声，不祥的叹息声……他躺在被子底下战战兢兢。\n",
      "\n",
      "> proxy [0.9559]: Он лег спать, он остановил одеяло, чтобы покрыть голову; в комнате было жарко и душно, ветер толкнул закрытую дверь, печь гудела, кухня пришла со вздохами, зловещими вздохами... Он лежал под одеялом и воевал.\n",
      "----------------------------------------------------------\n",
      "Он боялся, как бы чего не вышло, как бы его не зарезал Афанасий, как бы не забрались воры, и потом всю ночь видел тревожные сны, а утром, когда мы вместе шли в гимназию, был скучен, бледен, и было видно, что многолюдная гимназия, в которую он шел, была страшна, противна всему существу ею и что идти рядом со мной ему, человеку по натуре одинокому, было тяжко.\n",
      "\n",
      "他深怕会出什么事，深怕阿法纳西来杀他，深怕小偷溜进来，然后他就通宵做醒梦，到早晨我们一块儿到学校去的时候，他闷闷不乐，脸色苍白。\n",
      "\n",
      "> proxy [0.9402]: Он боялся, что что-то случится, боялся, что Афанаси убьет его, боялся, что вор проскользнет, а потом всю ночь у него был тревожный звонок, и к утру, когда мы вместе ходили в школу, он был подавлен и бледный.\n",
      "----------------------------------------------------------\n",
      "Он подсел к ней и сказал. сладко улыбаясь: — Малороссийский язык своею нежностью и приятною звучностью напоминает древнегреческий.\n",
      "\n",
      "他挨着她坐下，露出甜滋滋的笑容，说小俄罗斯语言的柔和清脆使人联想到古希腊语言。\n",
      "\n",
      "> proxy [0.9172]: Он сел рядом с ней, со сладкой улыбкой, и сказал, что мягкая и четкая несбытие маленького русского языка напоминает древнегреческий язык.\n",
      "----------------------------------------------------------\n",
      "Это польстило ей, и она стала рассказывать ему с чувством и убедительно, что в Гадячском уезде у нее есть хутор, а на хуторе живет мамочка, и там такие груши, такие дыни, такие кабаки!\n",
      "\n",
      "这句话她听着受用，她就开始热情而恳切地对他讲起他们在加佳奇县有一个庄园，她的妈就住在庄园里，那儿有那么好的梨，那么好的甜瓜，那么好的卡巴克®!\n",
      "\n",
      "> proxy [0.9138]: Это предложение она слушала использовать, она начала тепло и искренне сказал ему, что у них есть имение в Гаряке, ее мать жила в поместье, Есть так хорошие груши, так хорошие дыни, так хорошо Кабак ®!\n",
      "----------------------------------------------------------\n",
      "Раньше это не интересовало нас вовсе; быть может, мы не допускали даже и мысли, что человек, который во всякую погоду ходит в калошах и спит под пологом, может любить.\n",
      "\n",
      "也许我们甚至不允许自己想到一个不问什么天气总是穿着套鞋睡觉总要挂上帐子的人，也会热爱什么人吧。\n",
      "\n",
      "> proxy [0.9620]: Может быть, мы даже не позволяем себе думать о человеке, который не спрашивает, какая погода всегда носит обувь, чтобы спать, и кто будет любить его.\n",
      "----------------------------------------------------------\n",
      "За ним идет сестра, тоже с книгами.\n",
      "\n",
      "他身后跟着他姐姐，也拿着书。\n",
      "\n",
      "> proxy [0.9549]: Он последовал за своей сестрой за ним, также держа книгу.\n",
      "----------------------------------------------------------\n",
      "Он молчит, а Варенька поет ему \"Виют витры\", или глядит на него задумчиво своими темными глазами, или вдруг зальется: — Ха—ха—ха!\n",
      "\n",
      "他沉默着，瓦连卡就对他唱《风在吹，或者用她那双黑眼睛沉思地瞧着他，再不就忽然扬声大笑哈哈哈！\n",
      "\n",
      "> proxy [0.9315]: Он молчал, и Вавринка пел ему: \"Ветер дует, или ее черные глаза смотрят на него медитативно, а потом вдруг разразился смех хахаха!\"\n",
      "----------------------------------------------------------\n",
      "Он поставил у себя на столе портрет Вареньки и все ходил ко мне и говорил о Вареньке, о семейной жизни, о том, что брак есть шаг серьезный, часто бывал у Коваленков, но образа жизни не изменил нисколько.\n",
      "\n",
      "他把瓦连卡的照片放在自己桌子上，不断地来找我，谈瓦连卡，谈家庭生活，谈婚姻是终身大事，常到科瓦连科家去，可是他一点也没改变生活方式。\n",
      "\n",
      "> proxy [0.9336]: Он положил фотографию Вавринки на стол, постоянно приходил ко мне, рассказывал о Вавринке, рассказывал о семейной жизни, говорил о браке - это пожизненное мероприятие, часто ходил в дом Коваленко, но не менял свой образ жизни.\n",
      "----------------------------------------------------------\n",
      "— Нет, женитьба — шаг серьезный, надо сначала взвесить предстоящие обязанности, ответственность... чтобы потом чего не вышло.\n",
      "\n",
      "不成，婚姻是终身大事，人先得估量一下将来的义务和责任……免得日后闹出什么乱子。\n",
      "\n",
      "> proxy [0.9183]: Нет, брак является пожизненным событием, люди должны сначала измерить обязательства и обязанности будущего ... Чтобы в будущем не было беспорядка.\n",
      "----------------------------------------------------------\n",
      "— Не понимаю,— говорил он нам, пожимая плечами,— не понимаю, как вы перевариваете этого фискала, эту мерзкую рожу.\n",
      "\n",
      "我不懂，他常对我们说，耸一耸肩膀，我不懂你们怎么能够跟这个告密的家伙，那副叫人恶心的嘴脸处得下去。\n",
      "\n",
      "> proxy [0.9670]: Я не понимаю, он говорил нам, пожимая плечами, я не понимаю, как вы можете говорить с этим осведомителем, что отвратительно лицом вниз.\n",
      "----------------------------------------------------------\n",
      "Эх, господа, как вы можете тут жить!\n",
      "\n",
      "诸位先生，你们怎么能在这儿生活下去啊！\n",
      "\n",
      "> proxy [0.9338]: Как вы можете здесь жить, господа?\n",
      "----------------------------------------------------------\n",
      "Теперь слушайте, что дальше.\n",
      "\n",
      "现在，您听一听后来发生的事吧。\n",
      "\n",
      "> proxy [0.9449]: Послушай, что произошло дальше.\n",
      "----------------------------------------------------------\n",
      "Какой—то проказник нарисовал карикатуру: идет Беликов в калошах, в подсученных брюках, под зонтом, и с ним под руку Варенька; внизу подпись: \"Влюбленный антропос\".\n",
      "\n",
      "有个促狭鬼画了一张漫画，画着别里科夫打着雨伞，穿着套鞋，卷起裤腿，正在走路，臂弯里挽着瓦连卡，下面缀着题名恋爱中的。\n",
      "\n",
      "> proxy [0.9287]: Был мультфильм обращается salunger, изображенный с зонтиком, одетый в костюм обуви, свертывание брючные ноги, ходьба, выгибая руки Вавринка, под надписью о любви.\n",
      "----------------------------------------------------------\n",
      "Идем и вдруг, можете себе представить, катит на велосипеде Коваленко, а за ним Варенька, тоже на велосипеде, красная, заморенная, но веселая, радостная.\n",
      "\n",
      "我们走啊走的，忽然间，您猜怎么着，科瓦连科骑着自行车来了，在他身后，瓦连卡也骑着自行车，涨红了脸，筋疲166力尽，可是快活，兴高采烈。\n",
      "\n",
      "> proxy [0.9577]: Мы едем, вдруг, вы наверное, коваленко на велосипеде, за ним, Вавринка тоже едет на велосипеде, красное лицо, измученное, но счастливое, веселое.\n",
      "----------------------------------------------------------\n",
      "И он был так поражен, что не захотел идти дальше и вернулся домой.\n",
      "\n",
      "，他大为震动，不愿意再往前走，回家去了。\n",
      "\n",
      "> proxy [0.9112]: Он был так потрясен, что не хотел идти дальше и пошел домой.\n",
      "----------------------------------------------------------\n",
      "А под вечер оделся потеплее, хотя да дворе стояла совсем летняя погода, и поплелся к Коваленкам.\n",
      "\n",
      "虽然门外已经完全是夏天天气，可是将近傍晚，他却穿得暖暖和和的，慢腾腾地走到科瓦连科家里去了。\n",
      "\n",
      "> proxy [0.9277]: Хотя дверь была полностью летняя погода, но вечером он оделся теплым и теплым, медленно шел к дому Коваленко.\n",
      "----------------------------------------------------------\n",
      "Вареньки не было дома, застал он только брата.\n",
      "\n",
      "瓦连卡不在家，他只碰到她弟弟在家。\n",
      "\n",
      "> proxy [0.9353]: Вавринки не было дома, он встречался только с братом дома.\n",
      "----------------------------------------------------------\n",
      "— Садитесь, покорнейше прошу,— проговорил Коваленко холодно и нахмурил брови; лицо у него было заспанное, он только что отдыхал после обеда и был сильно не в духе.\n",
      "\n",
      "请坐吧，科瓦连科冷冷地说，皱起眉头他的脸上带着睡意，饭后他打了个吨儿，刚刚醒来，心绪很坏。\n",
      "\n",
      "> proxy [0.9491]: Пожалуйста, сядь, сказал Коваленко холодно, хмурясь лицом со сном, после еды он ударил тонну, только что проснулся, настроение очень плохое.\n",
      "----------------------------------------------------------\n",
      "Беликов посидел молча минут десять и начал: — Я к вам пришел, чтоб облегчить душу.\n",
      "\n",
      "别里科夫沉默地坐了十分钟光景，然后开口了我上您这儿来，是为了减轻我心里的负担。\n",
      "\n",
      "> proxy [0.9190]: Берыков молча просидел десять минут, а потом открыл рот, чтобы прийти к вам, чтобы облегчить бремя на моем сердце.\n",
      "----------------------------------------------------------\n",
      "Беликов подождал немного и продолжал тихо, печальным голосом: — И еще я имею кое—что сказать вам.\n",
      "\n",
      "别里科夫等了一会儿，然后压低喉咙，用悲凉的声调接着说另外我还有件事情要跟您谈一谈。\n",
      "\n",
      "> proxy [0.9361]: Берыков подождал минуту, потом опустил горло и сказал грустным тоном, что мне есть о чем поговорить.\n",
      "----------------------------------------------------------\n",
      "Если учитель едет на велосипеде, то что же остается ученикам?\n",
      "\n",
      "如果教师骑自行车，那还能希望学生做出什么好事来？\n",
      "\n",
      "> proxy [0.9457]: Если учитель ездит на велосипеде, что еще можно ожидать от студентов?\n",
      "----------------------------------------------------------\n",
      "Я вчера ужаснулся!\n",
      "\n",
      "昨天我吓了一大跳！\n",
      "\n",
      "> proxy [0.9242]: Вчера я испугалась!\n",
      "----------------------------------------------------------\n",
      "Женщина или девушка на велосипеде — это ужасно!\n",
      "\n",
      "一个女人或者一个姑娘骑自行车，这太可怕了！\n",
      "\n",
      "> proxy [0.9783]: А женщина или девушка, едущая на велосипеде, это ужасно!\n",
      "----------------------------------------------------------\n",
      "Вы ходите в вышитой сорочке, постоянно на улице с какими—то книгами, а теперь вот еще велосипед.\n",
      "\n",
      "您穿着绣花衬衫出门，经常拿着些书在大街上走来走去，现在呢，又骑什么自行车。\n",
      "\n",
      "> proxy [0.9366]: Вы выходите в вышитой рубашке, часто гуляете по улице с какими-то книгами, а теперь, какой велосипед пара.\n",
      "----------------------------------------------------------\n",
      "О том, что вы и ваша сестрица катаетесь на велосипеде, узнает директор, потом дойдет до попечителя...\n",
      "\n",
      "校长会听说您和您姐姐骑自行车的，然后，这事又会传到督学的耳朵里……这达会有好下场吗？\n",
      "\n",
      "> proxy [0.9341]: Директор услышит, что вы с сестрой ехали на велосипеде, а потом он доберется до уха инспектора... Будет ли это хорошее начало?\n",
      "----------------------------------------------------------\n",
      "Вы должны с уважением относиться к властям.\n",
      "\n",
      "您对当局应当尊敬才对。\n",
      "\n",
      "> proxy [0.9211]: Вы должны уважать власть.\n",
      "----------------------------------------------------------\n",
      "— А разве я говорил что дурное про властей? — спросил Коваленко, глядя на него со злобой.— Пожалуйста, оставьте меня в покое.\n",
      "\n",
      "科瓦连科问，生气地瞧着他，请您躲开我。\n",
      "\n",
      "> proxy [0.9199]: Коваленко спросил, глядя на него сердито, пожалуйста, избегайте меня.\n",
      "----------------------------------------------------------\n",
      "Я честный человек и с таким господином, как вы, не желаю разговаривать.\n",
      "\n",
      "我是正直的人，不愿意跟您这样的先生讲话。\n",
      "\n",
      "> proxy [0.9294]: Я честный человек и не хочу говорить с таким джентльменом, как ты.\n",
      "----------------------------------------------------------\n",
      "Я не люблю фискалов.\n",
      "\n",
      "我不喜欢告密的人。\n",
      "\n",
      "> proxy [0.9588]: Я не люблю осведомителей.\n",
      "----------------------------------------------------------\n",
      "— Можете говорить, что вам угодно,— сказал он, выходя из передней на площадку лестницы.— Я должен только предупредить вас: быть может, нас слышал кто—нибудь, и чтобы не перетолковали нашего разговора и чего—нибудь не вышло, я должен буду доложить господину директору содержание нашего разговора... в главных чертах.\n",
      "\n",
      "说不定有人偸听了我们的话，为了避免我们的谈话被人家误解，避免闹出什么乱子起见，我得把我们的谈话内容报告校长先生……把大意说明一下。\n",
      "\n",
      "> proxy [0.9150]: Может быть, кто-то слушал нас, чтобы избежать нашего разговора неправильно другими, чтобы избежать каких-либо беспорядок, я должен сообщить о нашем разговоре г-н директор ... Объясните смысл.\n",
      "----------------------------------------------------------\n",
      "Я не люблю фискалов.\n",
      "\n",
      "我不能不这样做。\n",
      "\n",
      "> proxy [0.9116]: Я не могу не сделать это.\n",
      "----------------------------------------------------------\n",
      "Коваленко схватил его сзади за воротник и пихнул, и Беликов покатился вниз по лестнице, гремя своими калошами.\n",
      "\n",
      "科瓦连科在他后面一把抓住他的衣领，使劲一推别里科夫就168滚下楼去，他的套鞋乒乒乓乓地响。\n",
      "\n",
      "> proxy [0.9256]: Коваленко схватил за собой воротник и скатился вниз по лестнице, как только толкнул Берикова, его набор обуви звенил.\n",
      "----------------------------------------------------------\n",
      "Уже он не слышал, что говорила Варенька, и ничего не видел.\n",
      "\n",
      "他没听见瓦连卡说了些什么话，他什么也没看见。\n",
      "\n",
      "> proxy [0.9859]: Он не слышал, что сказал Вавринка, и ничего не видел.\n",
      "----------------------------------------------------------\n",
      "Он лежит, а возле бродит Афанасий, мрачный, нахмуренный, и вздыхает глубоко; а от него водкой, как из кабака.\n",
      "\n",
      "他躺在那儿，阿法纳西呢，满脸愁容，皱着眉头，在他旁边走来走去，深深地叹气，可是像酒馆一样冒出白酒的气味。\n",
      "\n",
      "> proxy [0.9497]: Он лежал там, афатонный, хмурясь, гуляя вокруг него, глубоко вздыхая, но пахнущий белым вином, как паб.\n",
      "----------------------------------------------------------\n",
      "Через месяц Беликов умер.\n",
      "\n",
      "过了一个月，别里科夫死了。\n",
      "\n",
      "> proxy [0.9570]: Через месяц Берыков умер.\n",
      "----------------------------------------------------------\n",
      "Варенька тоже была на похоронах и, когда гроб опускали в могилу, всплакнула.\n",
      "\n",
      "瓦连卡也去送葬，等到棺材下了墓穴，她哭了一阵。\n",
      "\n",
      "> proxy [0.9539]: Вавринка тоже пошла на похороны, и когда гроб спустился в могилу, она плакала некоторое время.\n",
      "----------------------------------------------------------\n",
      "Но прошло не больше недели, и жизнь потекла по—прежнему, такая же суровая, утомительная, бестолковая, жизнь, не запрещенная циркулярно, но и не разрешенная вполне; не стало лучше.\n",
      "\n",
      "可是一个星期还没过完，生活又过得跟先前一样，跟先前一样的严峻无聊杂乱了，这样的生活固然没有奉到明令禁止，不过也没有得到充分的许可啊。\n",
      "\n",
      "> proxy [0.9133]: Но неделя еще не закончилась, жизнь такая же, как и раньше, с той же, что и до мрачной скуки и беспорядка, такая жизнь явно не запрещена, но и не получила полного разрешения.\n",
      "----------------------------------------------------------\n",
      "— То—то вот оно и есть,—сказал Иван Иваныч и закурил трубку.\n",
      "\n",
      "问题就在这儿，伊万伊万内奇说，点上了他的烟斗。\n",
      "\n",
      "> proxy [0.9175]: Вот в чем проблема, сказал Иван Иванех, и зажег трубку.\n",
      "----------------------------------------------------------\n",
      "Учитель гимназии вышел из сарая.\n",
      "\n",
      "这个中学教师从堆房里走出来。\n",
      "\n",
      "> proxy [0.9230]: Учительница средней школы вышла из кучи.\n",
      "----------------------------------------------------------\n",
      "Все было погружено в тихий, глубокий сон; ни движения, ни звука, даже не верится, что в природе может быть так тихо.\n",
      "\n",
      "一切都浸在深沉而静寂的睡乡里，没有一点动静，没有一点声音，人甚至不能相信大自然能够这么静。\n",
      "\n",
      "> proxy [0.9344]: Все погружается в глубокую и тихую спящую страну, нет движения, нет звука, люди не могут даже поверить, что природа может быть такой тихой.\n",
      "----------------------------------------------------------\n",
      "А то, что мы проводим всю жизнь среди бездельников, сутяг, глупых, праздных женщин, говорим и слушаем разный вздор — разве это не футляр?\n",
      "\n",
      "至于在懒汉爱打官司的人无所事事的蠢女人中间消磨我们的一生自己说而且听人家说各式各样的废话，这岂不也是套子吗?\n",
      "\n",
      "> proxy [0.9318]: Разве это не набор всех видов, чтобы убить нашу жизнь среди глупых женщин, которые ничего не делают в ленивых случаях и слушать людей говорят всякие глупости?\n",
      "----------------------------------------------------------\n",
      "— Нет, уж пора спать,— сказал Буркин.— До завтра.\n",
      "\n",
      "不，现在也该睡了，布尔金说，留到明天再讲吧。\n",
      "\n",
      "> proxy [0.9440]: Нет, пора ложиться спать, сказал Бургин, и остаться до завтра.\n",
      "----------------------------------------------------------\n",
      "Шаги затихли.\n",
      "\n",
      "脚步声渐渐听不见了。\n",
      "\n",
      "> proxy [0.9197]: Шаги угасали.\n",
      "----------------------------------------------------------\n",
      "— Ну, уж это вы из другой оперы, Иван Иваныч,— сказал учитель.— Давайте спать.\n",
      "\n",
      "算了吧，您扯到别的题目上去了，伊万伊万内奇，教师说，睡吧!\n",
      "\n",
      "> proxy [0.9487]: Забудьте об этом, вы пошли на другую тему, Иван Иванеч, учитель сказал, спите!\n",
      "----------------------------------------------------------\n"
     ]
    }
   ],
   "source": [
    "write_log = True\n",
    "\n",
    "with open(output_ru, mode=\"w\", encoding=\"utf-8\") as out_ru, \\\n",
    "     open(output_zh, mode=\"w\", encoding=\"utf-8\") as out_zh:\n",
    "    for ru,zh,pr,sim in zip(res_ru, res_zh, res_ru_proxy, sims):\n",
    "        out_ru.write(ru)\n",
    "        out_zh.write(zh)\n",
    "        print(ru)\n",
    "        print(zh)    \n",
    "        if write_log:\n",
    "            print(f\"> proxy [{sim:.4f}]: {pr.strip()}\")\n",
    "            print(\"----------------------------------------------------------\")"
   ]
  },
  {
   "cell_type": "code",
   "execution_count": null,
   "metadata": {},
   "outputs": [],
   "source": []
  }
 ],
 "metadata": {
  "kernelspec": {
   "display_name": "Python 3.8.2 64-bit",
   "language": "python",
   "name": "python38264bit6a1a1228bf2f47adba44e2e25f240908"
  },
  "language_info": {
   "codemirror_mode": {
    "name": "ipython",
    "version": 3
   },
   "file_extension": ".py",
   "mimetype": "text/x-python",
   "name": "python",
   "nbconvert_exporter": "python",
   "pygments_lexer": "ipython3",
   "version": "3.8.2"
  }
 },
 "nbformat": 4,
 "nbformat_minor": 4
}
